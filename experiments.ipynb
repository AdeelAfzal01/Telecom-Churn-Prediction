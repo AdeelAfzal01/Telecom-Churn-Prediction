{
 "cells": [
  {
   "cell_type": "code",
   "execution_count": 1,
   "metadata": {},
   "outputs": [],
   "source": [
    "import pandas as pd"
   ]
  },
  {
   "cell_type": "code",
   "execution_count": 3,
   "metadata": {},
   "outputs": [],
   "source": [
    "data_20 = pd.read_csv(\"Data/churn-bigml-20.csv\")\n",
    "data_80 = pd.read_csv(\"Data/churn-bigml-80.csv\")"
   ]
  },
  {
   "cell_type": "code",
   "execution_count": 11,
   "metadata": {},
   "outputs": [
    {
     "name": "stdout",
     "output_type": "stream",
     "text": [
      "Model saved as logistic_regression_pipeline.pkl\n",
      "Predictions from trained model:\n",
      "              precision    recall  f1-score   support\n",
      "\n",
      "       False       0.90      0.98      0.94       572\n",
      "        True       0.73      0.34      0.46        95\n",
      "\n",
      "    accuracy                           0.89       667\n",
      "   macro avg       0.81      0.66      0.70       667\n",
      "weighted avg       0.87      0.89      0.87       667\n",
      "\n",
      "Predictions from loaded model:\n",
      "              precision    recall  f1-score   support\n",
      "\n",
      "       False       0.90      0.98      0.94       572\n",
      "        True       0.73      0.34      0.46        95\n",
      "\n",
      "    accuracy                           0.89       667\n",
      "   macro avg       0.81      0.66      0.70       667\n",
      "weighted avg       0.87      0.89      0.87       667\n",
      "\n"
     ]
    }
   ],
   "source": [
    "import pandas as pd\n",
    "from sklearn.model_selection import train_test_split\n",
    "from sklearn.preprocessing import StandardScaler, OneHotEncoder\n",
    "from sklearn.compose import ColumnTransformer\n",
    "from sklearn.pipeline import Pipeline\n",
    "from sklearn.linear_model import LogisticRegression\n",
    "from sklearn.metrics import classification_report\n",
    "import joblib\n",
    "\n",
    "# Load training data\n",
    "# Assuming training and testing data are loaded as DataFrames\n",
    "training_data = pd.read_csv(\"Data/churn-bigml-20.csv\")  # Replace with the actual file path\n",
    "testing_data = pd.read_csv(\"Data/churn-bigml-20.csv\")  # Replace with the actual file path\n",
    "\n",
    "# Separate features and target\n",
    "X_train = training_data.drop(\"Churn\", axis=1)\n",
    "y_train = training_data[\"Churn\"]\n",
    "\n",
    "X_test = testing_data.drop(\"Churn\", axis=1)\n",
    "y_test = testing_data[\"Churn\"]\n",
    "\n",
    "# Identify column types\n",
    "categorical_columns = [\"State\", \"International plan\", \"Voice mail plan\"]\n",
    "numeric_columns = [col for col in X_train.columns if col not in categorical_columns]\n",
    "\n",
    "# Preprocessing pipeline\n",
    "numeric_transformer = StandardScaler()\n",
    "categorical_transformer = OneHotEncoder(handle_unknown=\"ignore\")\n",
    "\n",
    "preprocessor = ColumnTransformer(\n",
    "    transformers=[\n",
    "        (\"num\", numeric_transformer, numeric_columns),\n",
    "        (\"cat\", categorical_transformer, categorical_columns),\n",
    "    ]\n",
    ")\n",
    "\n",
    "# Create a pipeline with preprocessing and model\n",
    "model_pipeline = Pipeline(\n",
    "    steps=[\n",
    "        (\"preprocessor\", preprocessor),\n",
    "        (\"classifier\", LogisticRegression(random_state=42, max_iter=1000)),\n",
    "    ]\n",
    ")\n",
    "\n",
    "# Train the model\n",
    "model_pipeline.fit(X_train, y_train)\n",
    "\n",
    "# Serialize and dump the model\n",
    "joblib.dump(model_pipeline, \"logistic_regression_pipeline.pkl\")\n",
    "print(\"Model saved as logistic_regression_pipeline.pkl\")\n",
    "\n",
    "# Apply the same preprocessing to testing data\n",
    "print(\"Predictions from trained model:\")\n",
    "y_pred = model_pipeline.predict(X_test)\n",
    "print(classification_report(y_test, y_pred))\n",
    "\n",
    "# Example of loading the saved model and using it\n",
    "loaded_model = joblib.load(\"logistic_regression_pipeline.pkl\")\n",
    "y_pred_loaded = loaded_model.predict(X_test)\n",
    "print(\"Predictions from loaded model:\")\n",
    "print(classification_report(y_test, y_pred_loaded))\n",
    "\n"
   ]
  },
  {
   "cell_type": "code",
   "execution_count": 13,
   "metadata": {},
   "outputs": [
    {
     "name": "stdout",
     "output_type": "stream",
     "text": [
      "Prediction: False\n",
      "Probability: [0.93372557 0.06627443]\n"
     ]
    }
   ],
   "source": [
    "\n",
    "\n",
    "# Load the saved model\n",
    "model_pipeline = joblib.load(\"Model/logistic_regression_pipeline.pkl\")\n",
    "\n",
    "# Example row for testing (replace with actual data)\n",
    "example_row = {\n",
    "    \"State\": \"NY\",                  # Example state\n",
    "    \"Account length\": 120,          # Example account length\n",
    "    \"Area code\": 415,               # Example area code\n",
    "    \"International plan\": \"No\",     # Yes/No\n",
    "    \"Voice mail plan\": \"Yes\",       # Yes/No\n",
    "    \"Number vmail messages\": 10,    # Example number\n",
    "    \"Total day minutes\": 180.0,     # Example value\n",
    "    \"Total day calls\": 80,          # Example value\n",
    "    \"Total day charge\": 30.6,       # Example value\n",
    "    \"Total eve minutes\": 200.0,     # Example value\n",
    "    \"Total eve calls\": 100,         # Example value\n",
    "    \"Total eve charge\": 17.0,       # Example value\n",
    "    \"Total night minutes\": 250.0,   # Example value\n",
    "    \"Total night calls\": 90,        # Example value\n",
    "    \"Total night charge\": 11.0,     # Example value\n",
    "    \"Total intl minutes\": 12.0,     # Example value\n",
    "    \"Total intl calls\": 3,          # Example value\n",
    "    \"Total intl charge\": 3.24,      # Example value\n",
    "    \"Customer service calls\": 2     # Example value\n",
    "}\n",
    "\n",
    "# Convert example row to a DataFrame\n",
    "example_df = pd.DataFrame([example_row])\n",
    "\n",
    "# Predict using the loaded model\n",
    "prediction = model_pipeline.predict(example_df)\n",
    "probability = model_pipeline.predict_proba(example_df)\n",
    "\n",
    "# Output prediction results\n",
    "print(f\"Prediction: {prediction[0]}\")  # True/False for Churn\n",
    "print(f\"Probability: {probability[0]}\")  # Probability of each class\n"
   ]
  },
  {
   "cell_type": "code",
   "execution_count": null,
   "metadata": {},
   "outputs": [],
   "source": []
  }
 ],
 "metadata": {
  "kernelspec": {
   "display_name": ".venv",
   "language": "python",
   "name": "python3"
  },
  "language_info": {
   "codemirror_mode": {
    "name": "ipython",
    "version": 3
   },
   "file_extension": ".py",
   "mimetype": "text/x-python",
   "name": "python",
   "nbconvert_exporter": "python",
   "pygments_lexer": "ipython3",
   "version": "3.11.9"
  }
 },
 "nbformat": 4,
 "nbformat_minor": 2
}
